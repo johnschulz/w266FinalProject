{
 "cells": [
  {
   "cell_type": "code",
   "execution_count": 1,
   "metadata": {},
   "outputs": [],
   "source": [
    "import numpy as np \n",
    "import pandas as pd\n",
    "import matplotlib.pyplot as plt\n",
    "from sklearn.cluster import KMeans\n",
    "from keras.preprocessing.text import Tokenizer\n",
    "from keras.preprocessing.sequence import pad_sequences\n",
    "from keras.models import Sequential\n",
    "from keras.layers import Dense, Embedding, LSTM, SpatialDropout1D\n",
    "from sklearn.model_selection import train_test_split\n",
    "from keras.utils.np_utils import to_categorical\n",
    "from keras.callbacks import EarlyStopping\n",
    "from sklearn.feature_extraction.text import CountVectorizer\n",
    "from keras.layers import Dropout\n",
    "import nltk\n",
    "\n",
    "import re\n",
    "from nltk.stem import WordNetLemmatizer\n",
    "from nltk.corpus import stopwords\n",
    "from sklearn.metrics import accuracy_score"
   ]
  },
  {
   "cell_type": "code",
   "execution_count": 2,
   "metadata": {},
   "outputs": [
    {
     "data": {
      "text/html": [
       "<div>\n",
       "<style scoped>\n",
       "    .dataframe tbody tr th:only-of-type {\n",
       "        vertical-align: middle;\n",
       "    }\n",
       "\n",
       "    .dataframe tbody tr th {\n",
       "        vertical-align: top;\n",
       "    }\n",
       "\n",
       "    .dataframe thead th {\n",
       "        text-align: right;\n",
       "    }\n",
       "</style>\n",
       "<table border=\"1\" class=\"dataframe\">\n",
       "  <thead>\n",
       "    <tr style=\"text-align: right;\">\n",
       "      <th></th>\n",
       "      <th>text</th>\n",
       "      <th>author</th>\n",
       "    </tr>\n",
       "  </thead>\n",
       "  <tbody>\n",
       "    <tr>\n",
       "      <th>0</th>\n",
       "      <td>ou have time to listen i will give you the ent...</td>\n",
       "      <td>1</td>\n",
       "    </tr>\n",
       "    <tr>\n",
       "      <th>1</th>\n",
       "      <td>wish for solitude he was twenty years of age a...</td>\n",
       "      <td>1</td>\n",
       "    </tr>\n",
       "    <tr>\n",
       "      <th>2</th>\n",
       "      <td>and the skirt blew in perfect freedom about th...</td>\n",
       "      <td>1</td>\n",
       "    </tr>\n",
       "    <tr>\n",
       "      <th>3</th>\n",
       "      <td>of san and the rows of shops opposite impresse...</td>\n",
       "      <td>1</td>\n",
       "    </tr>\n",
       "    <tr>\n",
       "      <th>4</th>\n",
       "      <td>an hour s walk was as tiresome as three in a s...</td>\n",
       "      <td>1</td>\n",
       "    </tr>\n",
       "    <tr>\n",
       "      <th>...</th>\n",
       "      <td>...</td>\n",
       "      <td>...</td>\n",
       "    </tr>\n",
       "    <tr>\n",
       "      <th>53673</th>\n",
       "      <td>after surrounding and searching the whole plac...</td>\n",
       "      <td>50</td>\n",
       "    </tr>\n",
       "    <tr>\n",
       "      <th>53674</th>\n",
       "      <td>giant who could make a young earthquake or a w...</td>\n",
       "      <td>50</td>\n",
       "    </tr>\n",
       "    <tr>\n",
       "      <th>53675</th>\n",
       "      <td>waters of the lake at the bottom of the hill c...</td>\n",
       "      <td>50</td>\n",
       "    </tr>\n",
       "    <tr>\n",
       "      <th>53676</th>\n",
       "      <td>fingers and thumb in it exactly as it came out...</td>\n",
       "      <td>50</td>\n",
       "    </tr>\n",
       "    <tr>\n",
       "      <th>53677</th>\n",
       "      <td>giant s sake he won t meet with for if he does...</td>\n",
       "      <td>50</td>\n",
       "    </tr>\n",
       "  </tbody>\n",
       "</table>\n",
       "<p>53678 rows × 2 columns</p>\n",
       "</div>"
      ],
      "text/plain": [
       "                                                    text  author\n",
       "0      ou have time to listen i will give you the ent...       1\n",
       "1      wish for solitude he was twenty years of age a...       1\n",
       "2      and the skirt blew in perfect freedom about th...       1\n",
       "3      of san and the rows of shops opposite impresse...       1\n",
       "4      an hour s walk was as tiresome as three in a s...       1\n",
       "...                                                  ...     ...\n",
       "53673  after surrounding and searching the whole plac...      50\n",
       "53674  giant who could make a young earthquake or a w...      50\n",
       "53675  waters of the lake at the bottom of the hill c...      50\n",
       "53676  fingers and thumb in it exactly as it came out...      50\n",
       "53677  giant s sake he won t meet with for if he does...      50\n",
       "\n",
       "[53678 rows x 2 columns]"
      ]
     },
     "execution_count": 2,
     "metadata": {},
     "output_type": "execute_result"
    }
   ],
   "source": [
    "df = pd.read_csv('dataset/Gungor_2018_VictorianAuthorAttribution_data-train.csv', encoding='latin-1')\n",
    "train_data = df\n",
    "df"
   ]
  },
  {
   "cell_type": "code",
   "execution_count": 3,
   "metadata": {},
   "outputs": [
    {
     "data": {
      "text/html": [
       "<div>\n",
       "<style scoped>\n",
       "    .dataframe tbody tr th:only-of-type {\n",
       "        vertical-align: middle;\n",
       "    }\n",
       "\n",
       "    .dataframe tbody tr th {\n",
       "        vertical-align: top;\n",
       "    }\n",
       "\n",
       "    .dataframe thead th {\n",
       "        text-align: right;\n",
       "    }\n",
       "</style>\n",
       "<table border=\"1\" class=\"dataframe\">\n",
       "  <thead>\n",
       "    <tr style=\"text-align: right;\">\n",
       "      <th></th>\n",
       "      <th>text</th>\n",
       "      <th>author</th>\n",
       "      <th>text no stopwords</th>\n",
       "    </tr>\n",
       "  </thead>\n",
       "  <tbody>\n",
       "    <tr>\n",
       "      <th>0</th>\n",
       "      <td>ou have time to listen i will give you the ent...</td>\n",
       "      <td>1</td>\n",
       "      <td>ou time listen give entire story say may form ...</td>\n",
       "    </tr>\n",
       "    <tr>\n",
       "      <th>1</th>\n",
       "      <td>wish for solitude he was twenty years of age a...</td>\n",
       "      <td>1</td>\n",
       "      <td>wish solitude twenty years age possession perf...</td>\n",
       "    </tr>\n",
       "    <tr>\n",
       "      <th>2</th>\n",
       "      <td>and the skirt blew in perfect freedom about th...</td>\n",
       "      <td>1</td>\n",
       "      <td>skirt blow perfect freedom upper part wear hat...</td>\n",
       "    </tr>\n",
       "    <tr>\n",
       "      <th>3</th>\n",
       "      <td>of san and the rows of shops opposite impresse...</td>\n",
       "      <td>1</td>\n",
       "      <td>san row shop opposite impress upon vision last...</td>\n",
       "    </tr>\n",
       "    <tr>\n",
       "      <th>4</th>\n",
       "      <td>an hour s walk was as tiresome as three in a s...</td>\n",
       "      <td>1</td>\n",
       "      <td>hour walk tiresome three sensible english town...</td>\n",
       "    </tr>\n",
       "    <tr>\n",
       "      <th>...</th>\n",
       "      <td>...</td>\n",
       "      <td>...</td>\n",
       "      <td>...</td>\n",
       "    </tr>\n",
       "    <tr>\n",
       "      <th>53673</th>\n",
       "      <td>after surrounding and searching the whole plac...</td>\n",
       "      <td>50</td>\n",
       "      <td>surround search whole place could discover tra...</td>\n",
       "    </tr>\n",
       "    <tr>\n",
       "      <th>53674</th>\n",
       "      <td>giant who could make a young earthquake or a w...</td>\n",
       "      <td>50</td>\n",
       "      <td>giant could make young earthquake angry accord...</td>\n",
       "    </tr>\n",
       "    <tr>\n",
       "      <th>53675</th>\n",
       "      <td>waters of the lake at the bottom of the hill c...</td>\n",
       "      <td>50</td>\n",
       "      <td>water lake bottom hill curl kindness sympathy ...</td>\n",
       "    </tr>\n",
       "    <tr>\n",
       "      <th>53676</th>\n",
       "      <td>fingers and thumb in it exactly as it came out...</td>\n",
       "      <td>50</td>\n",
       "      <td>finger thumb exactly come hand never mind say ...</td>\n",
       "    </tr>\n",
       "    <tr>\n",
       "      <th>53677</th>\n",
       "      <td>giant s sake he won t meet with for if he does...</td>\n",
       "      <td>50</td>\n",
       "      <td>giant sake meet fin make well say seek twelve ...</td>\n",
       "    </tr>\n",
       "  </tbody>\n",
       "</table>\n",
       "<p>53678 rows × 3 columns</p>\n",
       "</div>"
      ],
      "text/plain": [
       "                                                    text  author  \\\n",
       "0      ou have time to listen i will give you the ent...       1   \n",
       "1      wish for solitude he was twenty years of age a...       1   \n",
       "2      and the skirt blew in perfect freedom about th...       1   \n",
       "3      of san and the rows of shops opposite impresse...       1   \n",
       "4      an hour s walk was as tiresome as three in a s...       1   \n",
       "...                                                  ...     ...   \n",
       "53673  after surrounding and searching the whole plac...      50   \n",
       "53674  giant who could make a young earthquake or a w...      50   \n",
       "53675  waters of the lake at the bottom of the hill c...      50   \n",
       "53676  fingers and thumb in it exactly as it came out...      50   \n",
       "53677  giant s sake he won t meet with for if he does...      50   \n",
       "\n",
       "                                       text no stopwords  \n",
       "0      ou time listen give entire story say may form ...  \n",
       "1      wish solitude twenty years age possession perf...  \n",
       "2      skirt blow perfect freedom upper part wear hat...  \n",
       "3      san row shop opposite impress upon vision last...  \n",
       "4      hour walk tiresome three sensible english town...  \n",
       "...                                                  ...  \n",
       "53673  surround search whole place could discover tra...  \n",
       "53674  giant could make young earthquake angry accord...  \n",
       "53675  water lake bottom hill curl kindness sympathy ...  \n",
       "53676  finger thumb exactly come hand never mind say ...  \n",
       "53677  giant sake meet fin make well say seek twelve ...  \n",
       "\n",
       "[53678 rows x 3 columns]"
      ]
     },
     "execution_count": 3,
     "metadata": {},
     "output_type": "execute_result"
    }
   ],
   "source": [
    "lemmatiser = WordNetLemmatizer()\n",
    "stop_words = stopwords.words('english')\n",
    "cleaned_text = []\n",
    "for text in train_data['text']:\n",
    "    lemmatised_words =''\n",
    "    split_text = text.split()\n",
    "    for word in split_text:\n",
    "        if word not in stop_words:\n",
    "            lemmatised_word=lemmatiser.lemmatize(word, pos=\"v\")\n",
    "            lemmatised_words += lemmatised_word + ' '\n",
    "    cleaned_text.append(lemmatised_words)\n",
    "train_data['text no stopwords'] = cleaned_text\n",
    "train_data"
   ]
  },
  {
   "cell_type": "code",
   "execution_count": 4,
   "metadata": {},
   "outputs": [],
   "source": [
    "#WITH STOPWORDS"
   ]
  },
  {
   "cell_type": "code",
   "execution_count": 5,
   "metadata": {},
   "outputs": [],
   "source": [
    "X = df['text']\n",
    "y = df['author'].values\n",
    "X_train, X_test, y_train, y_test = train_test_split(X, y, test_size=0.65, random_state=10)"
   ]
  },
  {
   "cell_type": "code",
   "execution_count": 6,
   "metadata": {},
   "outputs": [],
   "source": [
    "\n",
    "vectorizer = CountVectorizer()\n",
    "vectorizer.fit(X_train)\n",
    "X_train = vectorizer.transform(X_train)\n",
    "X_test  = vectorizer.transform(X_test)\n"
   ]
  },
  {
   "cell_type": "code",
   "execution_count": 7,
   "metadata": {},
   "outputs": [
    {
     "data": {
      "text/plain": [
       "GaussianNB(priors=None, var_smoothing=1e-09)"
      ]
     },
     "execution_count": 7,
     "metadata": {},
     "output_type": "execute_result"
    }
   ],
   "source": [
    "from sklearn.naive_bayes import GaussianNB\n",
    "model = GaussianNB()\n",
    "model.fit(X_train.toarray(), y_train)"
   ]
  },
  {
   "cell_type": "code",
   "execution_count": 8,
   "metadata": {},
   "outputs": [],
   "source": [
    "y_pred = model.predict(X_test.toarray())"
   ]
  },
  {
   "cell_type": "code",
   "execution_count": 9,
   "metadata": {},
   "outputs": [
    {
     "data": {
      "text/plain": [
       "0.41512137800578947"
      ]
     },
     "execution_count": 9,
     "metadata": {},
     "output_type": "execute_result"
    }
   ],
   "source": [
    "accuracy = accuracy_score(y_test, y_pred)\n",
    "accuracy"
   ]
  },
  {
   "cell_type": "code",
   "execution_count": 10,
   "metadata": {},
   "outputs": [],
   "source": [
    "y_predtrain = model.predict(X_train.toarray())"
   ]
  },
  {
   "cell_type": "code",
   "execution_count": 11,
   "metadata": {},
   "outputs": [
    {
     "data": {
      "text/plain": [
       "0.986905839144089"
      ]
     },
     "execution_count": 11,
     "metadata": {},
     "output_type": "execute_result"
    }
   ],
   "source": [
    "accuracyTrain = accuracy_score(y_train, y_predtrain)\n",
    "accuracyTrain"
   ]
  },
  {
   "cell_type": "code",
   "execution_count": 12,
   "metadata": {},
   "outputs": [],
   "source": [
    "#WITH STEMMING/Lemmatation and the removal of stopwords"
   ]
  },
  {
   "cell_type": "code",
   "execution_count": 13,
   "metadata": {},
   "outputs": [],
   "source": [
    "X = df['text no stopwords']\n",
    "y = df['author'].values\n",
    "X_train, X_test, y_train, y_test = train_test_split(X, y, test_size=0.65, random_state=10)"
   ]
  },
  {
   "cell_type": "code",
   "execution_count": 14,
   "metadata": {},
   "outputs": [],
   "source": [
    "\n",
    "vectorizer = CountVectorizer()\n",
    "vectorizer.fit(X_train)\n",
    "X_train = vectorizer.transform(X_train)\n",
    "X_test  = vectorizer.transform(X_test)\n"
   ]
  },
  {
   "cell_type": "code",
   "execution_count": 15,
   "metadata": {},
   "outputs": [
    {
     "data": {
      "text/plain": [
       "GaussianNB(priors=None, var_smoothing=1e-09)"
      ]
     },
     "execution_count": 15,
     "metadata": {},
     "output_type": "execute_result"
    }
   ],
   "source": [
    "from sklearn.naive_bayes import GaussianNB\n",
    "model = GaussianNB()\n",
    "model.fit(X_train.toarray(), y_train)"
   ]
  },
  {
   "cell_type": "code",
   "execution_count": 16,
   "metadata": {},
   "outputs": [],
   "source": [
    "y_pred = model.predict(X_test.toarray())"
   ]
  },
  {
   "cell_type": "code",
   "execution_count": 17,
   "metadata": {},
   "outputs": [
    {
     "data": {
      "text/plain": [
       "0.43925367573299706"
      ]
     },
     "execution_count": 17,
     "metadata": {},
     "output_type": "execute_result"
    }
   ],
   "source": [
    "accuracy = accuracy_score(y_test, y_pred)\n",
    "accuracy"
   ]
  },
  {
   "cell_type": "code",
   "execution_count": 18,
   "metadata": {},
   "outputs": [],
   "source": [
    "y_predtrain = model.predict(X_train.toarray())"
   ]
  },
  {
   "cell_type": "code",
   "execution_count": 19,
   "metadata": {},
   "outputs": [
    {
     "data": {
      "text/plain": [
       "0.9597594081013466"
      ]
     },
     "execution_count": 19,
     "metadata": {},
     "output_type": "execute_result"
    }
   ],
   "source": [
    "accuracyTrain = accuracy_score(y_train, y_predtrain)\n",
    "accuracyTrain"
   ]
  },
  {
   "cell_type": "code",
   "execution_count": 20,
   "metadata": {},
   "outputs": [],
   "source": [
    "#\n",
    "#VECTORIZE ON ONLY TOP 30 WORDS WITHOUT STOPWORDS"
   ]
  },
  {
   "cell_type": "code",
   "execution_count": 22,
   "metadata": {},
   "outputs": [
    {
     "data": {
      "text/html": [
       "<div>\n",
       "<style scoped>\n",
       "    .dataframe tbody tr th:only-of-type {\n",
       "        vertical-align: middle;\n",
       "    }\n",
       "\n",
       "    .dataframe tbody tr th {\n",
       "        vertical-align: top;\n",
       "    }\n",
       "\n",
       "    .dataframe thead th {\n",
       "        text-align: right;\n",
       "    }\n",
       "</style>\n",
       "<table border=\"1\" class=\"dataframe\">\n",
       "  <thead>\n",
       "    <tr style=\"text-align: right;\">\n",
       "      <th></th>\n",
       "      <th>text</th>\n",
       "      <th>author</th>\n",
       "      <th>text no stopwords</th>\n",
       "      <th>top text no stopwords</th>\n",
       "    </tr>\n",
       "  </thead>\n",
       "  <tbody>\n",
       "    <tr>\n",
       "      <th>0</th>\n",
       "      <td>ou have time to listen i will give you the ent...</td>\n",
       "      <td>1</td>\n",
       "      <td>ou time listen give entire story say may form ...</td>\n",
       "      <td>one time row give may city boat effect interes...</td>\n",
       "    </tr>\n",
       "    <tr>\n",
       "      <th>1</th>\n",
       "      <td>wish for solitude he was twenty years of age a...</td>\n",
       "      <td>1</td>\n",
       "      <td>wish solitude twenty years age possession perf...</td>\n",
       "      <td>one time row give may city boat effect interes...</td>\n",
       "    </tr>\n",
       "    <tr>\n",
       "      <th>2</th>\n",
       "      <td>and the skirt blew in perfect freedom about th...</td>\n",
       "      <td>1</td>\n",
       "      <td>skirt blow perfect freedom upper part wear hat...</td>\n",
       "      <td>one time row give may city boat effect interes...</td>\n",
       "    </tr>\n",
       "    <tr>\n",
       "      <th>3</th>\n",
       "      <td>of san and the rows of shops opposite impresse...</td>\n",
       "      <td>1</td>\n",
       "      <td>san row shop opposite impress upon vision last...</td>\n",
       "      <td>one time row give may city boat effect interes...</td>\n",
       "    </tr>\n",
       "    <tr>\n",
       "      <th>4</th>\n",
       "      <td>an hour s walk was as tiresome as three in a s...</td>\n",
       "      <td>1</td>\n",
       "      <td>hour walk tiresome three sensible english town...</td>\n",
       "      <td>one time row give may city boat effect interes...</td>\n",
       "    </tr>\n",
       "    <tr>\n",
       "      <th>...</th>\n",
       "      <td>...</td>\n",
       "      <td>...</td>\n",
       "      <td>...</td>\n",
       "      <td>...</td>\n",
       "    </tr>\n",
       "    <tr>\n",
       "      <th>53673</th>\n",
       "      <td>after surrounding and searching the whole plac...</td>\n",
       "      <td>50</td>\n",
       "      <td>surround search whole place could discover tra...</td>\n",
       "      <td>one time row give may city boat effect interes...</td>\n",
       "    </tr>\n",
       "    <tr>\n",
       "      <th>53674</th>\n",
       "      <td>giant who could make a young earthquake or a w...</td>\n",
       "      <td>50</td>\n",
       "      <td>giant could make young earthquake angry accord...</td>\n",
       "      <td>one time row give may city boat effect interes...</td>\n",
       "    </tr>\n",
       "    <tr>\n",
       "      <th>53675</th>\n",
       "      <td>waters of the lake at the bottom of the hill c...</td>\n",
       "      <td>50</td>\n",
       "      <td>water lake bottom hill curl kindness sympathy ...</td>\n",
       "      <td>one time row give may city boat effect interes...</td>\n",
       "    </tr>\n",
       "    <tr>\n",
       "      <th>53676</th>\n",
       "      <td>fingers and thumb in it exactly as it came out...</td>\n",
       "      <td>50</td>\n",
       "      <td>finger thumb exactly come hand never mind say ...</td>\n",
       "      <td>one time row give may city boat effect interes...</td>\n",
       "    </tr>\n",
       "    <tr>\n",
       "      <th>53677</th>\n",
       "      <td>giant s sake he won t meet with for if he does...</td>\n",
       "      <td>50</td>\n",
       "      <td>giant sake meet fin make well say seek twelve ...</td>\n",
       "      <td>one time row give may city boat effect interes...</td>\n",
       "    </tr>\n",
       "  </tbody>\n",
       "</table>\n",
       "<p>53678 rows × 4 columns</p>\n",
       "</div>"
      ],
      "text/plain": [
       "                                                    text  author  \\\n",
       "0      ou have time to listen i will give you the ent...       1   \n",
       "1      wish for solitude he was twenty years of age a...       1   \n",
       "2      and the skirt blew in perfect freedom about th...       1   \n",
       "3      of san and the rows of shops opposite impresse...       1   \n",
       "4      an hour s walk was as tiresome as three in a s...       1   \n",
       "...                                                  ...     ...   \n",
       "53673  after surrounding and searching the whole plac...      50   \n",
       "53674  giant who could make a young earthquake or a w...      50   \n",
       "53675  waters of the lake at the bottom of the hill c...      50   \n",
       "53676  fingers and thumb in it exactly as it came out...      50   \n",
       "53677  giant s sake he won t meet with for if he does...      50   \n",
       "\n",
       "                                       text no stopwords  \\\n",
       "0      ou time listen give entire story say may form ...   \n",
       "1      wish solitude twenty years age possession perf...   \n",
       "2      skirt blow perfect freedom upper part wear hat...   \n",
       "3      san row shop opposite impress upon vision last...   \n",
       "4      hour walk tiresome three sensible english town...   \n",
       "...                                                  ...   \n",
       "53673  surround search whole place could discover tra...   \n",
       "53674  giant could make young earthquake angry accord...   \n",
       "53675  water lake bottom hill curl kindness sympathy ...   \n",
       "53676  finger thumb exactly come hand never mind say ...   \n",
       "53677  giant sake meet fin make well say seek twelve ...   \n",
       "\n",
       "                                   top text no stopwords  \n",
       "0      one time row give may city boat effect interes...  \n",
       "1      one time row give may city boat effect interes...  \n",
       "2      one time row give may city boat effect interes...  \n",
       "3      one time row give may city boat effect interes...  \n",
       "4      one time row give may city boat effect interes...  \n",
       "...                                                  ...  \n",
       "53673  one time row give may city boat effect interes...  \n",
       "53674  one time row give may city boat effect interes...  \n",
       "53675  one time row give may city boat effect interes...  \n",
       "53676  one time row give may city boat effect interes...  \n",
       "53677  one time row give may city boat effect interes...  \n",
       "\n",
       "[53678 rows x 4 columns]"
      ]
     },
     "execution_count": 22,
     "metadata": {},
     "output_type": "execute_result"
    }
   ],
   "source": [
    "vals = []\n",
    "for i in range(len(df)):\n",
    "    tokens = nltk.word_tokenize(df.iloc[0]['text no stopwords'])\n",
    "    frequencies = nltk.FreqDist(tokens)\n",
    "    most_common = ''\n",
    "    for frequency in frequencies.most_common()[:30]:\n",
    "        most_common += frequency[0] + ' '\n",
    "    vals.append(most_common)\n",
    "df['top text no stopwords'] = vals\n",
    "df"
   ]
  },
  {
   "cell_type": "code",
   "execution_count": 24,
   "metadata": {},
   "outputs": [],
   "source": [
    "X = df['top text no stopwords']\n",
    "y = df['author'].values\n",
    "X_train, X_test, y_train, y_test = train_test_split(X, y, test_size=0.65, random_state=10)"
   ]
  },
  {
   "cell_type": "code",
   "execution_count": 25,
   "metadata": {},
   "outputs": [],
   "source": [
    "\n",
    "vectorizer = CountVectorizer()\n",
    "vectorizer.fit(X_train)\n",
    "X_train = vectorizer.transform(X_train)\n",
    "X_test  = vectorizer.transform(X_test)\n"
   ]
  },
  {
   "cell_type": "code",
   "execution_count": 26,
   "metadata": {},
   "outputs": [
    {
     "data": {
      "text/plain": [
       "GaussianNB(priors=None, var_smoothing=1e-09)"
      ]
     },
     "execution_count": 26,
     "metadata": {},
     "output_type": "execute_result"
    }
   ],
   "source": [
    "from sklearn.naive_bayes import GaussianNB\n",
    "model = GaussianNB()\n",
    "model.fit(X_train.toarray(), y_train)"
   ]
  },
  {
   "cell_type": "code",
   "execution_count": 27,
   "metadata": {},
   "outputs": [
    {
     "name": "stderr",
     "output_type": "stream",
     "text": [
      "/Users/johnschulz/opt/anaconda3/lib/python3.7/site-packages/sklearn/naive_bayes.py:450: RuntimeWarning: divide by zero encountered in log\n",
      "  n_ij = - 0.5 * np.sum(np.log(2. * np.pi * self.sigma_[i, :]))\n",
      "/Users/johnschulz/opt/anaconda3/lib/python3.7/site-packages/sklearn/naive_bayes.py:452: RuntimeWarning: invalid value encountered in true_divide\n",
      "  (self.sigma_[i, :]), 1)\n"
     ]
    }
   ],
   "source": [
    "y_pred = model.predict(X_test.toarray())"
   ]
  },
  {
   "cell_type": "code",
   "execution_count": 28,
   "metadata": {},
   "outputs": [
    {
     "data": {
      "text/plain": [
       "0.017769625404832193"
      ]
     },
     "execution_count": 28,
     "metadata": {},
     "output_type": "execute_result"
    }
   ],
   "source": [
    "accuracy = accuracy_score(y_test, y_pred)\n",
    "accuracy"
   ]
  },
  {
   "cell_type": "code",
   "execution_count": 29,
   "metadata": {},
   "outputs": [
    {
     "name": "stderr",
     "output_type": "stream",
     "text": [
      "/Users/johnschulz/opt/anaconda3/lib/python3.7/site-packages/sklearn/naive_bayes.py:450: RuntimeWarning: divide by zero encountered in log\n",
      "  n_ij = - 0.5 * np.sum(np.log(2. * np.pi * self.sigma_[i, :]))\n",
      "/Users/johnschulz/opt/anaconda3/lib/python3.7/site-packages/sklearn/naive_bayes.py:452: RuntimeWarning: invalid value encountered in true_divide\n",
      "  (self.sigma_[i, :]), 1)\n"
     ]
    }
   ],
   "source": [
    "y_predtrain = model.predict(X_train.toarray())"
   ]
  },
  {
   "cell_type": "code",
   "execution_count": 30,
   "metadata": {},
   "outputs": [
    {
     "data": {
      "text/plain": [
       "0.015542662479374036"
      ]
     },
     "execution_count": 30,
     "metadata": {},
     "output_type": "execute_result"
    }
   ],
   "source": [
    "accuracyTrain = accuracy_score(y_train, y_predtrain)\n",
    "accuracyTrain"
   ]
  },
  {
   "cell_type": "code",
   "execution_count": 31,
   "metadata": {},
   "outputs": [],
   "source": [
    "df.to_csv('datafinal.csv')"
   ]
  },
  {
   "cell_type": "markdown",
   "metadata": {},
   "source": [
    "KERAS : DEEP LEARNING"
   ]
  },
  {
   "cell_type": "code",
   "execution_count": null,
   "metadata": {},
   "outputs": [],
   "source": [
    "#CHANGE\n",
    "input_dim = X_train.shape[1]\n",
    "model = Sequential()\n",
    "model.add(layers.Dense(10, input_dim=input_dim, activation='relu'))\n",
    "model.add(layers.Dense(1, activation='sigmoid'))"
   ]
  },
  {
   "cell_type": "code",
   "execution_count": null,
   "metadata": {},
   "outputs": [],
   "source": [
    "#CHANGE\n",
    "model.compile(loss='binary_crossentropy', optimizer='adam', metrics=['accuracy'])"
   ]
  },
  {
   "cell_type": "code",
   "execution_count": null,
   "metadata": {},
   "outputs": [],
   "source": [
    "model.summary()"
   ]
  },
  {
   "cell_type": "code",
   "execution_count": null,
   "metadata": {},
   "outputs": [],
   "source": [
    "#CHANGE\n",
    "histby = model.fit(X_train, y_train,epochs=10, verbose=False,validation_data=(X_test, y_test),batch_size=10)\n"
   ]
  },
  {
   "cell_type": "code",
   "execution_count": null,
   "metadata": {},
   "outputs": [],
   "source": [
    "clear_session()"
   ]
  },
  {
   "cell_type": "code",
   "execution_count": null,
   "metadata": {},
   "outputs": [],
   "source": [
    "#CHANGE\n",
    "loss, accuracy = model.evaluate(X_train, y_train, verbose=False)\n",
    "print(\"Training Accuracy: {:.4f}\".format(accuracy))\n",
    "loss, accuracy = model.evaluate(X_test, y_test, verbose=False)\n",
    "print(\"Testing Accuracy:  {:.4f}\".format(accuracy))"
   ]
  },
  {
   "cell_type": "code",
   "execution_count": null,
   "metadata": {},
   "outputs": [],
   "source": [
    "#CHANGE\n",
    "port matplotlib.pyplot as plt\n",
    "plt.style.use('ggplot')\n",
    "\n",
    "def plot_history(history):\n",
    "    acc = history.history['acc']\n",
    "    val_acc = history.history['val_acc']\n",
    "    loss = history.history['loss']\n",
    "    val_loss = history.history['val_loss']\n",
    "    x = range(1, len(acc) + 1)\n",
    "\n",
    "    plt.figure(figsize=(12, 5))\n",
    "    plt.subplot(1, 2, 1)\n",
    "    plt.plot(x, acc, 'b', label='Training acc')\n",
    "    plt.plot(x, val_acc, 'r', label='Validation acc')\n",
    "    plt.title('Training and validation accuracy')\n",
    "    plt.legend()\n",
    "    plt.subplot(1, 2, 2)\n",
    "    plt.plot(x, loss, 'b', label='Training loss')\n",
    "    plt.plot(x, val_loss, 'r', label='Validation loss')\n",
    "    plt.title('Training and validation loss')\n",
    "    plt.legend()"
   ]
  }
 ],
 "metadata": {
  "kernelspec": {
   "display_name": "Python 3",
   "language": "python",
   "name": "python3"
  },
  "language_info": {
   "codemirror_mode": {
    "name": "ipython",
    "version": 3
   },
   "file_extension": ".py",
   "mimetype": "text/x-python",
   "name": "python",
   "nbconvert_exporter": "python",
   "pygments_lexer": "ipython3",
   "version": "3.7.6"
  }
 },
 "nbformat": 4,
 "nbformat_minor": 4
}
